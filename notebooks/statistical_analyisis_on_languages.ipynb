{
 "cells": [
  {
   "cell_type": "code",
   "execution_count": 1,
   "metadata": {},
   "outputs": [],
   "source": [
    "import pandas as pd\n",
    "import pickle as pkl\n",
    "import os"
   ]
  },
  {
   "cell_type": "code",
   "execution_count": 17,
   "metadata": {},
   "outputs": [
    {
     "name": "stdout",
     "output_type": "stream",
     "text": [
      "predictions_dict.pkl {'acoruna_barco_m67780_a84524_audio_converted.mp3': 'Galician', 'barcelona_Ovvero_m68255_a84999_audio_converted.mp3': 'Bosnian', 'berlin_Dirk_m67384_a84128_audio_converted.mp3': 'German'}\n"
     ]
    }
   ],
   "source": [
    "path = os.path.join(os.getcwd(), \"data\")\n",
    "files = os.listdir(path)\n",
    "file_column, language_column = [], []\n",
    "for file in files:\n",
    "    if file[-3:] == \"pkl\":\n",
    "        try:\n",
    "            with open(path+\"/\"+file,'rb') as f:\n",
    "                curr_dict = pkl.load(f)\n",
    "                print(file,curr_dict)\n",
    "                for key,value in curr_dict.items():\n",
    "                    file_column.append(key)\n",
    "                    language_column.append(value)\n",
    "        \n",
    "        except TypeError:\n",
    "            pass"
   ]
  },
  {
   "cell_type": "code",
   "execution_count": 18,
   "metadata": {},
   "outputs": [
    {
     "data": {
      "text/html": [
       "<div>\n",
       "<style scoped>\n",
       "    .dataframe tbody tr th:only-of-type {\n",
       "        vertical-align: middle;\n",
       "    }\n",
       "\n",
       "    .dataframe tbody tr th {\n",
       "        vertical-align: top;\n",
       "    }\n",
       "\n",
       "    .dataframe thead th {\n",
       "        text-align: right;\n",
       "    }\n",
       "</style>\n",
       "<table border=\"1\" class=\"dataframe\">\n",
       "  <thead>\n",
       "    <tr style=\"text-align: right;\">\n",
       "      <th></th>\n",
       "      <th>file</th>\n",
       "      <th>language</th>\n",
       "    </tr>\n",
       "  </thead>\n",
       "  <tbody>\n",
       "    <tr>\n",
       "      <th>0</th>\n",
       "      <td>acoruna_barco_m67780_a84524_audio_converted.mp3</td>\n",
       "      <td>Galician</td>\n",
       "    </tr>\n",
       "    <tr>\n",
       "      <th>1</th>\n",
       "      <td>barcelona_Ovvero_m68255_a84999_audio_converted...</td>\n",
       "      <td>Bosnian</td>\n",
       "    </tr>\n",
       "    <tr>\n",
       "      <th>2</th>\n",
       "      <td>berlin_Dirk_m67384_a84128_audio_converted.mp3</td>\n",
       "      <td>German</td>\n",
       "    </tr>\n",
       "  </tbody>\n",
       "</table>\n",
       "</div>"
      ],
      "text/plain": [
       "                                                file  language\n",
       "0    acoruna_barco_m67780_a84524_audio_converted.mp3  Galician\n",
       "1  barcelona_Ovvero_m68255_a84999_audio_converted...   Bosnian\n",
       "2      berlin_Dirk_m67384_a84128_audio_converted.mp3    German"
      ]
     },
     "execution_count": 18,
     "metadata": {},
     "output_type": "execute_result"
    }
   ],
   "source": [
    "db = pd.DataFrame.from_dict({\"file\":file_column,\"language\":language_column})\n",
    "db"
   ]
  },
  {
   "cell_type": "code",
   "execution_count": 19,
   "metadata": {},
   "outputs": [
    {
     "data": {
      "text/plain": [
       "array(['Galician', 'Bosnian', 'German'], dtype=object)"
      ]
     },
     "execution_count": 19,
     "metadata": {},
     "output_type": "execute_result"
    }
   ],
   "source": [
    "db['language'].unique()"
   ]
  },
  {
   "cell_type": "code",
   "execution_count": 20,
   "metadata": {},
   "outputs": [],
   "source": [
    "x, y = [], []\n",
    "for i,j in zip(db['language'].value_counts().index, db['language'].value_counts()):\n",
    "    x.append(j)\n",
    "    y.append(i)"
   ]
  },
  {
   "cell_type": "code",
   "execution_count": 22,
   "metadata": {},
   "outputs": [
    {
     "data": {
      "image/png": "[encoded data removed]",
      "text/plain": [
       "<Figure size 1500x600 with 1 Axes>"
      ]
     },
     "metadata": {},
     "output_type": "display_data"
    }
   ],
   "source": [
    "import matplotlib.pyplot as plt\n",
    "\n",
    "plt.figure(figsize=(15, 6))\n",
    "plt.bar(y, x, width = 1)\n",
    "plt.xticks(rotation=90)\n",
    "plt.show()"
   ]
  },
  {
   "cell_type": "markdown",
   "metadata": {},
   "source": [
    "There are too many languages with close to zero values, they could be removed and a numbre should be decided in the future. For testing I set it to -1 to pick everything"
   ]
  },
  {
   "cell_type": "code",
   "execution_count": 23,
   "metadata": {},
   "outputs": [
    {
     "data": {
      "text/plain": [
       "['Galician', 'Bosnian', 'German']"
      ]
     },
     "execution_count": 23,
     "metadata": {},
     "output_type": "execute_result"
    }
   ],
   "source": [
    "languages_to_use = []\n",
    "for i,j in zip(db['language'].value_counts().index, db['language'].value_counts()):\n",
    "    if j > -1:\n",
    "        languages_to_use.append(i)\n",
    "languages_to_use"
   ]
  },
  {
   "cell_type": "code",
   "execution_count": 24,
   "metadata": {},
   "outputs": [
    {
     "data": {
      "text/html": [
       "<div>\n",
       "<style scoped>\n",
       "    .dataframe tbody tr th:only-of-type {\n",
       "        vertical-align: middle;\n",
       "    }\n",
       "\n",
       "    .dataframe tbody tr th {\n",
       "        vertical-align: top;\n",
       "    }\n",
       "\n",
       "    .dataframe thead th {\n",
       "        text-align: right;\n",
       "    }\n",
       "</style>\n",
       "<table border=\"1\" class=\"dataframe\">\n",
       "  <thead>\n",
       "    <tr style=\"text-align: right;\">\n",
       "      <th></th>\n",
       "      <th>file</th>\n",
       "      <th>language</th>\n",
       "    </tr>\n",
       "  </thead>\n",
       "  <tbody>\n",
       "    <tr>\n",
       "      <th>0</th>\n",
       "      <td>acoruna_barco_m67780_a84524_audio_converted.mp3</td>\n",
       "      <td>Galician</td>\n",
       "    </tr>\n",
       "    <tr>\n",
       "      <th>1</th>\n",
       "      <td>barcelona_Ovvero_m68255_a84999_audio_converted...</td>\n",
       "      <td>Bosnian</td>\n",
       "    </tr>\n",
       "    <tr>\n",
       "      <th>2</th>\n",
       "      <td>berlin_Dirk_m67384_a84128_audio_converted.mp3</td>\n",
       "      <td>German</td>\n",
       "    </tr>\n",
       "  </tbody>\n",
       "</table>\n",
       "</div>"
      ],
      "text/plain": [
       "                                                file  language\n",
       "0    acoruna_barco_m67780_a84524_audio_converted.mp3  Galician\n",
       "1  barcelona_Ovvero_m68255_a84999_audio_converted...   Bosnian\n",
       "2      berlin_Dirk_m67384_a84128_audio_converted.mp3    German"
      ]
     },
     "execution_count": 24,
     "metadata": {},
     "output_type": "execute_result"
    }
   ],
   "source": [
    "db.loc[db['language'].isin(languages_to_use)]"
   ]
  },
  {
   "cell_type": "code",
   "execution_count": 25,
   "metadata": {},
   "outputs": [],
   "source": [
    "db.to_csv(path+\"/\"+\"file_language.csv\")"
   ]
  }
 ],
 "metadata": {
  "kernelspec": {
   "display_name": "Python 3",
   "language": "python",
   "name": "python3"
  },
  "language_info": {
   "codemirror_mode": {
    "name": "ipython",
    "version": 3
   },
   "file_extension": ".py",
   "mimetype": "text/x-python",
   "name": "python",
   "nbconvert_exporter": "python",
   "pygments_lexer": "ipython3",
   "version": "3.10.12"
  }
 },
 "nbformat": 4,
 "nbformat_minor": 2
}
