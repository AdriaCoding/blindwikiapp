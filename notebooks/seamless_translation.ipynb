{
 "cells": [
  {
   "cell_type": "code",
   "execution_count": 1,
   "metadata": {},
   "outputs": [
    {
     "name": "stderr",
     "output_type": "stream",
     "text": [
      "c:\\Users\\Adria\\dev\\blindwikiapp\\.venv\\Lib\\site-packages\\tqdm\\auto.py:21: TqdmWarning: IProgress not found. Please update jupyter and ipywidgets. See https://ipywidgets.readthedocs.io/en/stable/user_install.html\n",
      "  from .autonotebook import tqdm as notebook_tqdm\n"
     ]
    },
    {
     "name": "stdout",
     "output_type": "stream",
     "text": [
      "Looking for MP3 files in: c:\\Users\\Adria\\dev\\blindwikiapp\\notebooks\\uploads\n"
     ]
    }
   ],
   "source": [
    "import os\n",
    "import glob\n",
    "import torch\n",
    "import torchaudio\n",
    "from tqdm import tqdm\n",
    "from transformers import AutoProcessor, SeamlessM4Tv2ForSpeechToSpeech\n",
    "\n",
    "# Set device (CPU/GPU)\n",
    "device = torch.device('cuda' if torch.cuda.is_available() else 'cpu')\n",
    "\n",
    "# Set up directories\n",
    "base_dir = os.path.dirname(os.getcwd())\n",
    "uploads_dir = os.path.join(os.getcwd(), \"uploads\")\n",
    "data_dir = os.path.join(os.getcwd(), \"data\")\n",
    "translations_dir = os.path.join(uploads_dir, \"translations\")\n",
    "\n",
    "# Create the data and translated directories if they don't exist\n",
    "os.makedirs(data_dir, exist_ok=True)\n",
    "os.makedirs(translations_dir, exist_ok=True)\n",
    "\n",
    "print(f\"Looking for MP3 files in: {uploads_dir}\")"
   ]
  },
  {
   "cell_type": "code",
   "execution_count": 2,
   "metadata": {},
   "outputs": [
    {
     "name": "stderr",
     "output_type": "stream",
     "text": [
      "Loading checkpoint shards: 100%|██████████| 2/2 [00:01<00:00,  1.56it/s]\n"
     ]
    }
   ],
   "source": [
    "# Cargar el modelo y el procesador\n",
    "model_name = \"facebook/seamless-m4t-v2-large\"\n",
    "processor = AutoProcessor.from_pretrained(model_name)\n",
    "model = SeamlessM4Tv2ForSpeechToSpeech.from_pretrained(model_name).to(device)"
   ]
  },
  {
   "cell_type": "code",
   "execution_count": 3,
   "metadata": {},
   "outputs": [],
   "source": [
    "def translate_audio(file_path, target_lang=\"eng\"):\n",
    "    \"\"\"\n",
    "    Traduce un archivo de audio usando el modelo SeamlessM4T.\n",
    "    Args:\n",
    "        file_path (str): Ruta al archivo de audio\n",
    "        target_lang (str): Código del idioma de destino (por defecto: 'eng')\n",
    "    Returns:\n",
    "        str: Ruta al archivo de audio traducido\n",
    "    \"\"\"\n",
    "    try:\n",
    "        # Cargar archivo de audio\n",
    "        waveform, sample_rate = torchaudio.load(file_path)\n",
    "       \n",
    "        # Resamplear a 16000 Hz si es necesario\n",
    "        if sample_rate != 16000:\n",
    "            resampler = torchaudio.transforms.Resample(orig_freq=sample_rate, new_freq=16000)\n",
    "            waveform = resampler(waveform)\n",
    "       \n",
    "        # Convertir array a tensor de torch\n",
    "        audio_tensor = waveform.to(device)\n",
    "        \n",
    "        # Preparar entrada para el modelo\n",
    "        inputs = processor(\n",
    "            audios=audio_tensor,\n",
    "            sampling_rate=16000,\n",
    "            return_tensors=\"pt\"\n",
    "        ).to(device)\n",
    "        \n",
    "        # Generar traducción de audio\n",
    "        with torch.no_grad():\n",
    "            outputs = model.generate(**inputs, tgt_lang=target_lang, speaker_id=0)\n",
    "            translated_audio = outputs[0].cpu().numpy().squeeze()\n",
    "        \n",
    "        # Guardar el audio traducido\n",
    "        translated_file_name = os.path.basename(file_path).replace(\".mp3\", f\"_translated_{target_lang}.mp3\")\n",
    "        translated_file_path = os.path.join(translations_dir, translated_file_name)\n",
    "        torchaudio.save(translated_file_path, torch.tensor(translated_audio).unsqueeze(0), sample_rate=16000)\n",
    "        \n",
    "        return translated_file_path\n",
    "    \n",
    "    except Exception as e:\n",
    "        print(f\"Error procesando {file_path}: {str(e)}\")\n",
    "        return None"
   ]
  },
  {
   "cell_type": "code",
   "execution_count": 4,
   "metadata": {},
   "outputs": [
    {
     "name": "stdout",
     "output_type": "stream",
     "text": [
      "Se encontraron 8 archivos MP3 para procesar\n"
     ]
    },
    {
     "name": "stderr",
     "output_type": "stream",
     "text": [
      "  0%|          | 0/8 [00:00<?, ?it/s]"
     ]
    },
    {
     "name": "stdout",
     "output_type": "stream",
     "text": [
      "Procesando: acoruna_barco_m67780_a84524_audio_converted.mp3\n"
     ]
    },
    {
     "name": "stderr",
     "output_type": "stream",
     "text": [
      " 12%|█▎        | 1/8 [00:11<01:17, 11.08s/it]"
     ]
    },
    {
     "name": "stdout",
     "output_type": "stream",
     "text": [
      "Audio traducido guardado en: c:\\Users\\Adria\\dev\\blindwikiapp\\notebooks\\uploads\\translations\\acoruna_barco_m67780_a84524_audio_converted_translated_eng.mp3\n",
      "--------------------------------------------------------------------------------\n",
      "Procesando: barcelona_alexdobano_m68284_a85028_audio_converted.mp3\n"
     ]
    },
    {
     "name": "stderr",
     "output_type": "stream",
     "text": [
      " 25%|██▌       | 2/8 [00:37<02:01, 20.20s/it]"
     ]
    },
    {
     "name": "stdout",
     "output_type": "stream",
     "text": [
      "Audio traducido guardado en: c:\\Users\\Adria\\dev\\blindwikiapp\\notebooks\\uploads\\translations\\barcelona_alexdobano_m68284_a85028_audio_converted_translated_eng.mp3\n",
      "--------------------------------------------------------------------------------\n",
      "Procesando: barcelona_JuanNuez_m70566_a87310_audio_converted.mp3\n"
     ]
    },
    {
     "name": "stderr",
     "output_type": "stream",
     "text": [
      " 38%|███▊      | 3/8 [00:45<01:11, 14.34s/it]"
     ]
    },
    {
     "name": "stdout",
     "output_type": "stream",
     "text": [
      "Audio traducido guardado en: c:\\Users\\Adria\\dev\\blindwikiapp\\notebooks\\uploads\\translations\\barcelona_JuanNuez_m70566_a87310_audio_converted_translated_eng.mp3\n",
      "--------------------------------------------------------------------------------\n",
      "Procesando: barcelona_Ovvero_m68255_a84999_audio_converted.mp3\n"
     ]
    },
    {
     "name": "stderr",
     "output_type": "stream",
     "text": [
      " 50%|█████     | 4/8 [01:00<00:59, 14.79s/it]"
     ]
    },
    {
     "name": "stdout",
     "output_type": "stream",
     "text": [
      "Audio traducido guardado en: c:\\Users\\Adria\\dev\\blindwikiapp\\notebooks\\uploads\\translations\\barcelona_Ovvero_m68255_a84999_audio_converted_translated_eng.mp3\n",
      "--------------------------------------------------------------------------------\n",
      "Procesando: berlin_Dirk_m67384_a84128_audio_converted.mp3\n"
     ]
    },
    {
     "name": "stderr",
     "output_type": "stream",
     "text": [
      " 62%|██████▎   | 5/8 [01:28<00:58, 19.60s/it]"
     ]
    },
    {
     "name": "stdout",
     "output_type": "stream",
     "text": [
      "Audio traducido guardado en: c:\\Users\\Adria\\dev\\blindwikiapp\\notebooks\\uploads\\translations\\berlin_Dirk_m67384_a84128_audio_converted_translated_eng.mp3\n",
      "--------------------------------------------------------------------------------\n",
      "Procesando: cuenca_Amalia_m69879_a86623_audio_converted.mp3\n"
     ]
    },
    {
     "name": "stderr",
     "output_type": "stream",
     "text": [
      " 75%|███████▌  | 6/8 [02:02<00:49, 24.60s/it]"
     ]
    },
    {
     "name": "stdout",
     "output_type": "stream",
     "text": [
      "Audio traducido guardado en: c:\\Users\\Adria\\dev\\blindwikiapp\\notebooks\\uploads\\translations\\cuenca_Amalia_m69879_a86623_audio_converted_translated_eng.mp3\n",
      "--------------------------------------------------------------------------------\n",
      "Procesando: elbarcelonC3A8s_Martagosa_m71623_a88367_audio_converted.mp3\n"
     ]
    },
    {
     "name": "stderr",
     "output_type": "stream",
     "text": [
      " 88%|████████▊ | 7/8 [02:31<00:25, 25.82s/it]"
     ]
    },
    {
     "name": "stdout",
     "output_type": "stream",
     "text": [
      "Audio traducido guardado en: c:\\Users\\Adria\\dev\\blindwikiapp\\notebooks\\uploads\\translations\\elbarcelonC3A8s_Martagosa_m71623_a88367_audio_converted_translated_eng.mp3\n",
      "--------------------------------------------------------------------------------\n",
      "Procesando: elbarcelonC3A8s_Neussg_m71656_a88400_audio_converted.mp3\n"
     ]
    },
    {
     "name": "stderr",
     "output_type": "stream",
     "text": [
      "100%|██████████| 8/8 [05:19<00:00, 39.97s/it]"
     ]
    },
    {
     "name": "stdout",
     "output_type": "stream",
     "text": [
      "Audio traducido guardado en: c:\\Users\\Adria\\dev\\blindwikiapp\\notebooks\\uploads\\translations\\elbarcelonC3A8s_Neussg_m71656_a88400_audio_converted_translated_eng.mp3\n",
      "--------------------------------------------------------------------------------\n"
     ]
    },
    {
     "name": "stderr",
     "output_type": "stream",
     "text": [
      "\n"
     ]
    }
   ],
   "source": [
    "\n",
    "# Encontrar todos los archivos MP3 en el directorio de uploads\n",
    "mp3_files = glob.glob(os.path.join(uploads_dir, \"*.mp3\"))\n",
    "print(f\"Se encontraron {len(mp3_files)} archivos MP3 para procesar\")\n",
    "\n",
    "# Procesar cada archivo\n",
    "for file_path in tqdm(mp3_files):\n",
    "    file_name = os.path.basename(file_path)\n",
    "    print(f\"Procesando: {file_name}\")\n",
    "    \n",
    "    translated_file_path = translate_audio(file_path)\n",
    "    \n",
    "    # Imprimir progreso\n",
    "    if translated_file_path:\n",
    "        print(f\"Audio traducido guardado en: {translated_file_path}\")\n",
    "    else:\n",
    "        print(\"Traducción fallida.\")\n",
    "    print(\"-\" * 80)"
   ]
  }
 ],
 "metadata": {
  "kernelspec": {
   "display_name": ".venv",
   "language": "python",
   "name": "python3"
  },
  "language_info": {
   "codemirror_mode": {
    "name": "ipython",
    "version": 3
   },
   "file_extension": ".py",
   "mimetype": "text/x-python",
   "name": "python",
   "nbconvert_exporter": "python",
   "pygments_lexer": "ipython3",
   "version": "3.12.10"
  }
 },
 "nbformat": 4,
 "nbformat_minor": 2
}
