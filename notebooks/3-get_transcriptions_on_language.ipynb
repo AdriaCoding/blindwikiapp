{
 "cells": [
  {
   "cell_type": "code",
   "execution_count": 1,
   "metadata": {},
   "outputs": [],
   "source": [
    "import pandas as pd\n",
    "import pickle as pkl\n",
    "import os\n",
    "import librosa"
   ]
  },
  {
   "cell_type": "code",
   "execution_count": 2,
   "metadata": {},
   "outputs": [],
   "source": [
    "path = os.path.join(os.getcwd(), \"data\")\n",
    "db = pd.read_csv(path+\"/\"+\"file_language.csv\")"
   ]
  },
  {
   "cell_type": "code",
   "execution_count": 3,
   "metadata": {},
   "outputs": [
    {
     "data": {
      "text/html": [
       "<div>\n",
       "<style scoped>\n",
       "    .dataframe tbody tr th:only-of-type {\n",
       "        vertical-align: middle;\n",
       "    }\n",
       "\n",
       "    .dataframe tbody tr th {\n",
       "        vertical-align: top;\n",
       "    }\n",
       "\n",
       "    .dataframe thead th {\n",
       "        text-align: right;\n",
       "    }\n",
       "</style>\n",
       "<table border=\"1\" class=\"dataframe\">\n",
       "  <thead>\n",
       "    <tr style=\"text-align: right;\">\n",
       "      <th></th>\n",
       "      <th>Unnamed: 0</th>\n",
       "      <th>file</th>\n",
       "      <th>language</th>\n",
       "    </tr>\n",
       "  </thead>\n",
       "  <tbody>\n",
       "    <tr>\n",
       "      <th>0</th>\n",
       "      <td>0</td>\n",
       "      <td>acoruna_barco_m67780_a84524_audio_converted.mp3</td>\n",
       "      <td>Galician</td>\n",
       "    </tr>\n",
       "    <tr>\n",
       "      <th>1</th>\n",
       "      <td>1</td>\n",
       "      <td>barcelona_Ovvero_m68255_a84999_audio_converted...</td>\n",
       "      <td>Bosnian</td>\n",
       "    </tr>\n",
       "    <tr>\n",
       "      <th>2</th>\n",
       "      <td>2</td>\n",
       "      <td>berlin_Dirk_m67384_a84128_audio_converted.mp3</td>\n",
       "      <td>German</td>\n",
       "    </tr>\n",
       "  </tbody>\n",
       "</table>\n",
       "</div>"
      ],
      "text/plain": [
       "   Unnamed: 0                                               file  language\n",
       "0           0    acoruna_barco_m67780_a84524_audio_converted.mp3  Galician\n",
       "1           1  barcelona_Ovvero_m68255_a84999_audio_converted...   Bosnian\n",
       "2           2      berlin_Dirk_m67384_a84128_audio_converted.mp3    German"
      ]
     },
     "execution_count": 3,
     "metadata": {},
     "output_type": "execute_result"
    }
   ],
   "source": [
    "db"
   ]
  },
  {
   "cell_type": "code",
   "execution_count": 5,
   "metadata": {},
   "outputs": [
    {
     "data": {
      "text/plain": [
       "[   Unnamed: 0                                             file  language\n",
       " 0           0  acoruna_barco_m67780_a84524_audio_converted.mp3  Galician,\n",
       "    Unnamed: 0                                               file language\n",
       " 1           1  barcelona_Ovvero_m68255_a84999_audio_converted...  Bosnian,\n",
       "    Unnamed: 0                                           file language\n",
       " 2           2  berlin_Dirk_m67384_a84128_audio_converted.mp3   German]"
      ]
     },
     "execution_count": 5,
     "metadata": {},
     "output_type": "execute_result"
    }
   ],
   "source": [
    "databases = []\n",
    "for language in db[\"language\"].unique():\n",
    "    if language == \"corrupted\":\n",
    "        continue\n",
    "    databases.append(db[db['language'] == language])\n",
    "databases"
   ]
  },
  {
   "cell_type": "markdown",
   "metadata": {},
   "source": [
    "# The Model"
   ]
  },
  {
   "cell_type": "code",
   "execution_count": 7,
   "metadata": {},
   "outputs": [
    {
     "name": "stderr",
     "output_type": "stream",
     "text": [
      "c:\\Users\\Adria\\dev\\blindwikiapp\\.venv\\Lib\\site-packages\\tqdm\\auto.py:21: TqdmWarning: IProgress not found. Please update jupyter and ipywidgets. See https://ipywidgets.readthedocs.io/en/stable/user_install.html\n",
      "  from .autonotebook import tqdm as notebook_tqdm\n"
     ]
    }
   ],
   "source": [
    "from transformers import WhisperProcessor, WhisperForConditionalGeneration\n",
    "\n",
    "processor = WhisperProcessor.from_pretrained(\"openai/whisper-tiny\")\n",
    "model = WhisperForConditionalGeneration.from_pretrained(\"openai/whisper-tiny\")"
   ]
  },
  {
   "cell_type": "code",
   "execution_count": 12,
   "metadata": {},
   "outputs": [
    {
     "name": "stdout",
     "output_type": "stream",
     "text": [
      "galician\n"
     ]
    },
    {
     "name": "stderr",
     "output_type": "stream",
     "text": [
      "The attention mask is not set and cannot be inferred from input because pad token is same as eos token. As a consequence, you may observe unexpected behavior. Please pass your input's `attention_mask` to obtain reliable results.\n"
     ]
    },
    {
     "name": "stdout",
     "output_type": "stream",
     "text": [
      "Reached iteration 0 storing results\n",
      "Reached iteration 1 storing results\n",
      "bosnian\n",
      "Reached iteration 0 storing results\n",
      "Reached iteration 1 storing results\n",
      "german\n",
      "Reached iteration 0 storing results\n",
      "Reached iteration 1 storing results\n"
     ]
    }
   ],
   "source": [
    "transcriptions, unsupported_languages = {}, []\n",
    "non_language_databases = []\n",
    "j = 0\n",
    "transcriptions_file, unsupported_languages_file = \"transcriptions.pkl\", \"unsupported_languages.pkl\"\n",
    "for database in databases:\n",
    "    transcription_tmp, i = [], 0\n",
    "    try:\n",
    "        language = list(database[\"language\"])[0].lower()\n",
    "        print(language)\n",
    "    except KeyError:\n",
    "        non_language_databases.append(database)\n",
    "        continue\n",
    "    try:\n",
    "        forced_decoder_ids = processor.get_decoder_prompt_ids(language=language, task=\"transcribe\")\n",
    "    except ValueError:\n",
    "        unsupported_languages.append(language)\n",
    "        with open(os.path.join(path,unsupported_languages_file),\"wb\") as f:\n",
    "            pkl.dump(obj=unsupported_languages,file=f)\n",
    "        continue\n",
    "\n",
    "    for file in database[\"file\"]:\n",
    "        filepath = os.path.join(os.getcwd(), \"uploads\",file)\n",
    "        signal, sr = librosa.load(filepath,sr=16000)\n",
    "        input_features = processor(signal, sampling_rate=sr, return_tensors=\"pt\").input_features\n",
    "        predicted_ids = model.generate(input_features, forced_decoder_ids=forced_decoder_ids)\n",
    "        transcription = processor.batch_decode(predicted_ids, skip_special_tokens=True)\n",
    "        try:\n",
    "            transcriptions[file] = transcription[0]\n",
    "        except KeyError:\n",
    "            transcriptions[file] = \"\"\n",
    "        if i % 60 == 0:\n",
    "            print(f\"Reached iteration {i} storing results\")\n",
    "            \n",
    "            with open(path+\"/\"+transcriptions_file,\"wb\") as f:\n",
    "                pkl.dump(obj=transcriptions,file=f)\n",
    "        i += 1\n",
    "\n",
    "    print(f\"Reached iteration {i} storing results\")\n",
    "    with open(path+\"/\"+transcriptions_file,\"wb\") as f:\n",
    "        pkl.dump(obj=transcriptions,file=f)"
   ]
  },
  {
   "cell_type": "code",
   "execution_count": 17,
   "metadata": {},
   "outputs": [
    {
     "name": "stdout",
     "output_type": "stream",
     "text": [
      "Created full_db.csv with 3 entries\n"
     ]
    },
    {
     "data": {
      "text/html": [
       "<div>\n",
       "<style scoped>\n",
       "    .dataframe tbody tr th:only-of-type {\n",
       "        vertical-align: middle;\n",
       "    }\n",
       "\n",
       "    .dataframe tbody tr th {\n",
       "        vertical-align: top;\n",
       "    }\n",
       "\n",
       "    .dataframe thead th {\n",
       "        text-align: right;\n",
       "    }\n",
       "</style>\n",
       "<table border=\"1\" class=\"dataframe\">\n",
       "  <thead>\n",
       "    <tr style=\"text-align: right;\">\n",
       "      <th></th>\n",
       "      <th>file</th>\n",
       "      <th>language</th>\n",
       "      <th>transcription</th>\n",
       "    </tr>\n",
       "  </thead>\n",
       "  <tbody>\n",
       "    <tr>\n",
       "      <th>0</th>\n",
       "      <td>acoruna_barco_m67780_a84524_audio_converted.mp3</td>\n",
       "      <td>Galician</td>\n",
       "      <td>En esta zona, tenemos 3 placas de discapacita...</td>\n",
       "    </tr>\n",
       "    <tr>\n",
       "      <th>1</th>\n",
       "      <td>barcelona_Ovvero_m68255_a84999_audio_converted...</td>\n",
       "      <td>Bosnian</td>\n",
       "      <td>Ate, da ste gravati. Ja, da ne? Ja, svoj mojo...</td>\n",
       "    </tr>\n",
       "    <tr>\n",
       "      <th>2</th>\n",
       "      <td>berlin_Dirk_m67384_a84128_audio_converted.mp3</td>\n",
       "      <td>German</td>\n",
       "      <td>Also hier gibt es eine Kreuzung und neben den...</td>\n",
       "    </tr>\n",
       "  </tbody>\n",
       "</table>\n",
       "</div>"
      ],
      "text/plain": [
       "                                                file  language  \\\n",
       "0    acoruna_barco_m67780_a84524_audio_converted.mp3  Galician   \n",
       "1  barcelona_Ovvero_m68255_a84999_audio_converted...   Bosnian   \n",
       "2      berlin_Dirk_m67384_a84128_audio_converted.mp3    German   \n",
       "\n",
       "                                       transcription  \n",
       "0   En esta zona, tenemos 3 placas de discapacita...  \n",
       "1   Ate, da ste gravati. Ja, da ne? Ja, svoj mojo...  \n",
       "2   Also hier gibt es eine Kreuzung und neben den...  "
      ]
     },
     "execution_count": 17,
     "metadata": {},
     "output_type": "execute_result"
    }
   ],
   "source": [
    "# Create a new list to hold all data\n",
    "file_list = []\n",
    "language_list = []\n",
    "transcription_list = []\n",
    "\n",
    "# Get data from the original language CSV\n",
    "language_df = pd.read_csv(os.path.join(path, \"file_language.csv\"))\n",
    "\n",
    "# Iterate through the language dataframe\n",
    "for index, row in language_df.iterrows():\n",
    "    file_name = row['file']\n",
    "    language = row['language']\n",
    "    \n",
    "    # Add to our lists\n",
    "    file_list.append(file_name)\n",
    "    language_list.append(language)\n",
    "    \n",
    "    # Get transcription if available, otherwise NaN\n",
    "    if file_name in transcriptions:\n",
    "        transcription_list.append(transcriptions[file_name])\n",
    "    else:\n",
    "        transcription_list.append(float('nan'))  # Use NaN for missing transcriptions\n",
    "\n",
    "# Create the full dataframe\n",
    "full_df = pd.DataFrame({\n",
    "    'file': file_list,\n",
    "    'language': language_list,\n",
    "    'transcription': transcription_list\n",
    "})\n",
    "\n",
    "# Save to CSV in the format notebook 4 expects\n",
    "full_df.to_csv(os.path.join(os.getcwd(), \"data\", \"full_db.csv\"), index=False)\n",
    "\n",
    "print(f\"Created full_db.csv with {len(full_df)} entries\")\n",
    "full_df.head()"
   ]
  }
 ],
 "metadata": {
  "kernelspec": {
   "display_name": ".venv",
   "language": "python",
   "name": "python3"
  },
  "language_info": {
   "codemirror_mode": {
    "name": "ipython",
    "version": 3
   },
   "file_extension": ".py",
   "mimetype": "text/x-python",
   "name": "python",
   "nbconvert_exporter": "python",
   "pygments_lexer": "ipython3",
   "version": "3.12.10"
  }
 },
 "nbformat": 4,
 "nbformat_minor": 2
}
