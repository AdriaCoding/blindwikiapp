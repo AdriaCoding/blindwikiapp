{
 "cells": [
  {
   "cell_type": "code",
   "execution_count": 6,
   "metadata": {
    "id": "EXA5LSg6uFvT",
    "outputId": "6e382d9c-fb82-414c-9c6b-5c888a98813b"
   },
   "outputs": [],
   "source": [
    "import shutil\n",
    "import os\n",
    "import torchaudio\n",
    "import librosa\n",
    "import torch\n",
    "import pickle as pkl\n",
    "import audiofile\n",
    "from soundfile import LibsndfileError\n",
    "from speechbrain.inference.classifiers import EncoderClassifier\n",
    "\n",
    "# Clear the model cache\n",
    "cache_dir = \"C:/Users/Adria/.cache/huggingface/hub/models--speechbrain--lang-id-voxlingua107-ecapa\"\n",
    "if os.path.exists(cache_dir):\n",
    "    shutil.rmtree(cache_dir)\n",
    "\n",
    "# Also remove the tmp directory\n",
    "if os.path.exists(\"tmp\"):\n",
    "    shutil.rmtree(\"tmp\")\n",
    "\n",
    "# Then try loading the model again\n",
    "from speechbrain.inference.classifiers import EncoderClassifier\n",
    "language_id = EncoderClassifier.from_hparams(source=\"speechbrain/lang-id-voxlingua107-ecapa\", savedir=\"tmp\")\n"
   ]
  },
  {
   "cell_type": "code",
   "execution_count": 7,
   "metadata": {
    "id": "j6Xay9snuFvU"
   },
   "outputs": [],
   "source": [
    " # to be run on top of the 'uploads' directory containing the audio files\n",
    "path = os.path.join(os.getcwd(), \"uploads\")\n",
    "files = os.listdir(path)\n",
    "supported_audio_formats = [\"wav\",\"mp3\"]\n",
    "files = [file for file in files if file[-3:] in supported_audio_formats]"
   ]
  },
  {
   "cell_type": "code",
   "execution_count": 8,
   "metadata": {
    "id": "7ZATwURSuFvU",
    "outputId": "cfd870f8-9b09-4d66-e18c-a49ea2d126ec"
   },
   "outputs": [
    {
     "data": {
      "text/plain": [
       "('c:\\\\Users\\\\Adria\\\\dev\\\\blindwikiapp\\\\notebooks\\\\uploads',\n",
       " ['acoruna_barco_m67780_a84524_audio_converted.mp3',\n",
       "  'barcelona_Ovvero_m68255_a84999_audio_converted.mp3',\n",
       "  'berlin_Dirk_m67384_a84128_audio_converted.mp3'])"
      ]
     },
     "execution_count": 8,
     "metadata": {},
     "output_type": "execute_result"
    }
   ],
   "source": [
    "path, files"
   ]
  },
  {
   "cell_type": "code",
   "execution_count": 9,
   "metadata": {
    "id": "FCFluErsuFvV",
    "outputId": "08b374f0-96e4-47fc-db05-5a1374cbbb9a"
   },
   "outputs": [
    {
     "data": {
      "text/plain": [
       "{'mp3'}"
      ]
     },
     "execution_count": 9,
     "metadata": {},
     "output_type": "execute_result"
    }
   ],
   "source": [
    "file_ends = set()\n",
    "for file in files:\n",
    "    file_ends.add(file[-3:])\n",
    "file_ends"
   ]
  },
  {
   "cell_type": "code",
   "execution_count": 10,
   "metadata": {
    "id": "4p4qdGAuuFvV",
    "outputId": "92031d54-6f42-4179-aa21-2ece69e01cc3"
   },
   "outputs": [
    {
     "data": {
      "text/plain": [
       "array([ 0.0000000e+00,  0.0000000e+00,  0.0000000e+00, ...,\n",
       "       -9.4561778e-07, -6.0664206e-07, -3.3898604e-07],\n",
       "      shape=(254016,), dtype=float32)"
      ]
     },
     "execution_count": 10,
     "metadata": {},
     "output_type": "execute_result"
    }
   ],
   "source": [
    "# Use the path variable you already defined\n",
    "file_path = os.path.join(path, \"barcelona_Ovvero_m68255_a84999_audio_converted.mp3\")\n",
    "os.path.exists(file_path)\n",
    "signal, sampling_rate = audiofile.read(file_path)\n",
    "signal"
   ]
  },
  {
   "cell_type": "code",
   "execution_count": 20,
   "metadata": {
    "id": "LHWTPQDNuFvV",
    "outputId": "384d3a8e-1cdf-4b84-a10d-bb9875a3d1b0"
   },
   "outputs": [],
   "source": [
    "predictions = []\n",
    "corrupted_files = []\n",
    "# Create tmp directory if it doesn't exist\n",
    "data_dir = os.path.join(os.getcwd(), \"data\")\n",
    "if not os.path.exists(data_dir):\n",
    "    os.makedirs(data_dir)\n",
    "\n",
    "# Your existing code\n",
    "predictions_file = \"predictions_list.pkl\"\n",
    "i = 0\n",
    "for file in files[1:]:\n",
    "    #print(file)\n",
    "    i+=1\n",
    "    try:\n",
    "        signal, sr = audiofile.read(os.path.join(path, file))\n",
    "    except LibsndfileError as e:\n",
    "        print(\"Corrupt file\",file)\n",
    "        print(e)\n",
    "        corrupted_files.append(file)\n",
    "        continue\n",
    "    prediction = language_id.classify_batch(torch.tensor(signal))\n",
    "    predictions.append(prediction[3][0].split(\":\")[1].strip())\n",
    "    if i % 100 == 0:\n",
    "        print(f\"Iteration {i} completed reaching update...\")\n",
    "        with open(os.path.join(data_dir, predictions_file),\"wb\") as f:\n",
    "            pkl.dump(predictions,f)\n",
    "\n",
    "with open(os.path.join(data_dir,predictions_file),\"wb\") as f:\n",
    "    pkl.dump(predictions,f)"
   ]
  }
 ],
 "metadata": {
  "colab": {
   "provenance": []
  },
  "kernelspec": {
   "display_name": ".venv",
   "language": "python",
   "name": "python3"
  },
  "language_info": {
   "codemirror_mode": {
    "name": "ipython",
    "version": 3
   },
   "file_extension": ".py",
   "mimetype": "text/x-python",
   "name": "python",
   "nbconvert_exporter": "python",
   "pygments_lexer": "ipython3",
   "version": "3.12.10"
  }
 },
 "nbformat": 4,
 "nbformat_minor": 0
}
