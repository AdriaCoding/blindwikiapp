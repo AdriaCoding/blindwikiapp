{
 "cells": [
  {
   "cell_type": "code",
   "execution_count": null,
   "metadata": {
    "id": "l6cPhBjsuFvQ",
    "outputId": "9f0fb60f-3aed-4809-cbd5-e7a5a68a2533"
   },
   "outputs": [
    {
     "name": "stdout",
     "output_type": "stream",
     "text": [
      "^C\n"
     ]
    }
   ],
   "source": [
    "!pip install speechbrain"
   ]
  },
  {
   "cell_type": "code",
   "execution_count": null,
   "metadata": {
    "id": "lTIrsNucuFvS",
    "outputId": "fff6e595-68e1-465c-e5fb-0ed56f41fcaa"
   },
   "outputs": [
    {
     "name": "stdout",
     "output_type": "stream",
     "text": [
      "Requirement already satisfied: audiofile in c:\\users\\adria\\dev\\blindwikiapp\\.venv\\lib\\site-packages (1.5.1)\n",
      "Requirement already satisfied: audeer in c:\\users\\adria\\dev\\blindwikiapp\\.venv\\lib\\site-packages (from audiofile) (2.2.1)\n",
      "Requirement already satisfied: audmath>=1.3.0 in c:\\users\\adria\\dev\\blindwikiapp\\.venv\\lib\\site-packages (from audiofile) (1.4.1)\n",
      "Requirement already satisfied: numpy in c:\\users\\adria\\dev\\blindwikiapp\\.venv\\lib\\site-packages (from audiofile) (2.2.4)\n",
      "Requirement already satisfied: soundfile>=0.12.1 in c:\\users\\adria\\dev\\blindwikiapp\\.venv\\lib\\site-packages (from audiofile) (0.13.1)\n",
      "Requirement already satisfied: cffi>=1.0 in c:\\users\\adria\\dev\\blindwikiapp\\.venv\\lib\\site-packages (from soundfile>=0.12.1->audiofile) (1.17.1)\n",
      "Requirement already satisfied: tqdm in c:\\users\\adria\\dev\\blindwikiapp\\.venv\\lib\\site-packages (from audeer->audiofile) (4.67.1)\n",
      "Requirement already satisfied: pycparser in c:\\users\\adria\\dev\\blindwikiapp\\.venv\\lib\\site-packages (from cffi>=1.0->soundfile>=0.12.1->audiofile) (2.22)\n",
      "Requirement already satisfied: colorama in c:\\users\\adria\\dev\\blindwikiapp\\.venv\\lib\\site-packages (from tqdm->audeer->audiofile) (0.4.6)\n"
     ]
    }
   ],
   "source": [
    "!pip install audiofile"
   ]
  },
  {
   "cell_type": "code",
   "execution_count": 1,
   "metadata": {
    "id": "EXA5LSg6uFvT",
    "outputId": "6e382d9c-fb82-414c-9c6b-5c888a98813b"
   },
   "outputs": [
    {
     "name": "stderr",
     "output_type": "stream",
     "text": [
      "c:\\Users\\Adria\\dev\\blindwikiapp\\.venv\\Lib\\site-packages\\tqdm\\auto.py:21: TqdmWarning: IProgress not found. Please update jupyter and ipywidgets. See https://ipywidgets.readthedocs.io/en/stable/user_install.html\n",
      "  from .autonotebook import tqdm as notebook_tqdm\n",
      "c:\\Users\\Adria\\dev\\blindwikiapp\\.venv\\Lib\\site-packages\\speechbrain\\utils\\fetching.py:151: UserWarning: Using SYMLINK strategy on Windows for fetching potentially requires elevated privileges and is not recommended. See `LocalStrategy` documentation.\n",
      "  warnings.warn(\n",
      "c:\\Users\\Adria\\dev\\blindwikiapp\\.venv\\Lib\\site-packages\\speechbrain\\utils\\autocast.py:188: FutureWarning: `torch.cuda.amp.custom_fwd(args...)` is deprecated. Please use `torch.amp.custom_fwd(args..., device_type='cuda')` instead.\n",
      "  wrapped_fwd = torch.cuda.amp.custom_fwd(fwd, cast_inputs=cast_inputs)\n",
      "C:\\Users\\Adria\\AppData\\Local\\Programs\\Python\\Python312\\Lib\\inspect.py:1007: UserWarning: Module 'speechbrain.pretrained' was deprecated, redirecting to 'speechbrain.inference'. Please update your script. This is a change from SpeechBrain 1.0. See: https://github.com/speechbrain/speechbrain/releases/tag/v1.0.0\n",
      "  if ismodule(module) and hasattr(module, '__file__'):\n",
      "c:\\Users\\Adria\\dev\\blindwikiapp\\.venv\\Lib\\site-packages\\speechbrain\\utils\\parameter_transfer.py:234: UserWarning: Requested Pretrainer collection using symlinks on Windows. This might not work; see `LocalStrategy` documentation. Consider unsetting `collect_in` in Pretrainer to avoid symlinking altogether.\n",
      "  warnings.warn(\n"
     ]
    }
   ],
   "source": [
    "import torchaudio\n",
    "import os\n",
    "import librosa\n",
    "import torch\n",
    "import pickle as pkl\n",
    "import audiofile\n",
    "from soundfile import LibsndfileError\n",
    "from speechbrain.inference.classifiers import EncoderClassifier\n",
    "language_id = EncoderClassifier.from_hparams(source=\"speechbrain/lang-id-voxlingua107-ecapa\", savedir=\"tmp\")"
   ]
  },
  {
   "cell_type": "code",
   "execution_count": 30,
   "metadata": {
    "id": "j6Xay9snuFvU"
   },
   "outputs": [],
   "source": [
    " # to be run on top of the 'uploads' directory containing the audio files\n",
    "path = os.path.join(os.getcwd(), \"uploads\")\n",
    "files = os.listdir(path)\n",
    "supported_audio_formats = [\"wav\",\"mp3\"]\n",
    "files = [file for file in files if file[-3:] in supported_audio_formats]"
   ]
  },
  {
   "cell_type": "code",
   "execution_count": 31,
   "metadata": {
    "id": "7ZATwURSuFvU",
    "outputId": "cfd870f8-9b09-4d66-e18c-a49ea2d126ec"
   },
   "outputs": [
    {
     "data": {
      "text/plain": [
       "('c:\\\\Users\\\\Adria\\\\dev\\\\blindwikiapp\\\\notebooks\\\\uploads',\n",
       " ['acoruna_barco_m67780_a84524_audio_converted.mp3',\n",
       "  'barcelona_Ovvero_m68255_a84999_audio_converted.mp3',\n",
       "  'berlin_Dirk_m67384_a84128_audio_converted.mp3'])"
      ]
     },
     "execution_count": 31,
     "metadata": {},
     "output_type": "execute_result"
    }
   ],
   "source": [
    "path, files"
   ]
  },
  {
   "cell_type": "code",
   "execution_count": 32,
   "metadata": {
    "id": "FCFluErsuFvV",
    "outputId": "08b374f0-96e4-47fc-db05-5a1374cbbb9a"
   },
   "outputs": [
    {
     "data": {
      "text/plain": [
       "{'mp3'}"
      ]
     },
     "execution_count": 32,
     "metadata": {},
     "output_type": "execute_result"
    }
   ],
   "source": [
    "file_ends = set()\n",
    "for file in files:\n",
    "    file_ends.add(file[-3:])\n",
    "file_ends"
   ]
  },
  {
   "cell_type": "code",
   "execution_count": 34,
   "metadata": {
    "id": "4p4qdGAuuFvV",
    "outputId": "92031d54-6f42-4179-aa21-2ece69e01cc3"
   },
   "outputs": [
    {
     "data": {
      "text/plain": [
       "array([ 0.0000000e+00,  0.0000000e+00,  0.0000000e+00, ...,\n",
       "       -9.4561778e-07, -6.0664206e-07, -3.3898604e-07],\n",
       "      shape=(254016,), dtype=float32)"
      ]
     },
     "execution_count": 34,
     "metadata": {},
     "output_type": "execute_result"
    }
   ],
   "source": [
    "# Use the path variable you already defined\n",
    "file_path = os.path.join(path, \"barcelona_Ovvero_m68255_a84999_audio_converted.mp3\")\n",
    "os.path.exists(file_path)\n",
    "signal, sampling_rate = audiofile.read(file_path)\n",
    "signal"
   ]
  },
  {
   "cell_type": "code",
   "execution_count": 39,
   "metadata": {
    "id": "LHWTPQDNuFvV",
    "outputId": "384d3a8e-1cdf-4b84-a10d-bb9875a3d1b0"
   },
   "outputs": [],
   "source": [
    "predictions = []\n",
    "corrupted_files = []\n",
    "predictions_file = \"predictions_list.pkl\"\n",
    "i = 0\n",
    "for file in files[1:]:\n",
    "    #print(file)\n",
    "    i+=1\n",
    "    try:\n",
    "        signal, sr = audiofile.read(os.path.join(path, file))\n",
    "    except LibsndfileError as e:\n",
    "        print(\"Corrupt file\",file)\n",
    "        print(e)\n",
    "        corrupted_files.append(file)\n",
    "        continue\n",
    "    prediction = language_id.classify_batch(torch.tensor(signal))\n",
    "    predictions.append(prediction[3][0].split(\":\")[1].strip())\n",
    "    if i % 100 == 0:\n",
    "        print(f\"Iteration {i} completed reaching update...\")\n",
    "        with open(path+\"/\"+predictions_file,\"wb\") as f:\n",
    "            pkl.dump(predictions,f)\n",
    "\n",
    "with open(path+\"/\"+predictions_file,\"wb\") as f:\n",
    "    pkl.dump(predictions,f)"
   ]
  }
 ],
 "metadata": {
  "colab": {
   "provenance": []
  },
  "kernelspec": {
   "display_name": ".venv",
   "language": "python",
   "name": "python3"
  },
  "language_info": {
   "codemirror_mode": {
    "name": "ipython",
    "version": 3
   },
   "file_extension": ".py",
   "mimetype": "text/x-python",
   "name": "python",
   "nbconvert_exporter": "python",
   "pygments_lexer": "ipython3",
   "version": "3.12.10"
  }
 },
 "nbformat": 4,
 "nbformat_minor": 0
}
